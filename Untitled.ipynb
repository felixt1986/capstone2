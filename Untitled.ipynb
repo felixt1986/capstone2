{
 "cells": [
  {
   "cell_type": "code",
   "execution_count": 87,
   "metadata": {
    "collapsed": false
   },
   "outputs": [],
   "source": [
    "from PIL import Image\n",
    "import numpy as np \n",
    "import itertools\n",
    "\n",
    "\n"
   ]
  },
  {
   "cell_type": "code",
   "execution_count": 88,
   "metadata": {
    "collapsed": true
   },
   "outputs": [],
   "source": [
    "img1_1 = Image.open('sample.jpg')\n",
    "img1_2 = Image.open('sample.jpg')\n",
    "\n",
    "img2_1 = Image.open('sample2.jpg')\n",
    "img2_2 = Image.open('sample2.jpg')\n",
    "\n"
   ]
  },
  {
   "cell_type": "code",
   "execution_count": 94,
   "metadata": {
    "collapsed": false
   },
   "outputs": [],
   "source": [
    "test=list(img1_1.getdata())\n",
    "test[0]=(0,0,0)\n",
    "test[1]=(0,0,0)\n",
    "test[2]=(0,0,0)\n",
    "test[3]=(0,0,0)\n",
    "test[4]=(0,0,0)\n",
    "test[5]=(0,0,0)\n",
    "test[6]=(0,0,0)\n",
    "test[7]=(0,0,0)\n",
    "test[8]=(0,0,0)\n",
    "test2=list(img2_1.getdata())\n",
    "test2[100]=(100,100,100)\n",
    "test2[110]=(100,100,100)\n",
    "test2[120]=(100,100,100)\n",
    "test2[130]=(100,100,100)\n",
    "test2[140]=(100,100,100)\n"
   ]
  },
  {
   "cell_type": "code",
   "execution_count": 92,
   "metadata": {
    "collapsed": true
   },
   "outputs": [],
   "source": [
    "X =[list(itertools.chain(*list(img1_1.getdata()))),list(itertools.chain(*list(img1_2.getdata()))),list(itertools.chain(*list(img2_1.getdata()))),list(itertools.chain(*list(img2_2.getdata())))]\n",
    "y=[0,0,1,1]"
   ]
  },
  {
   "cell_type": "code",
   "execution_count": 93,
   "metadata": {
    "collapsed": false
   },
   "outputs": [
    {
     "data": {
      "text/plain": [
       "KNeighborsClassifier(algorithm='auto', leaf_size=30, metric='minkowski',\n",
       "           metric_params=None, n_jobs=1, n_neighbors=1, p=2,\n",
       "           weights='uniform')"
      ]
     },
     "execution_count": 93,
     "metadata": {},
     "output_type": "execute_result"
    }
   ],
   "source": [
    "from sklearn.neighbors import KNeighborsClassifier\n",
    "neigh = KNeighborsClassifier(n_neighbors=1)\n",
    "neigh.fit(X, y) "
   ]
  },
  {
   "cell_type": "code",
   "execution_count": 95,
   "metadata": {
    "collapsed": false
   },
   "outputs": [
    {
     "name": "stdout",
     "output_type": "stream",
     "text": [
      "[0 1]\n"
     ]
    }
   ],
   "source": [
    "print(neigh.predict([list(itertools.chain(*test)),list(itertools.chain(*test2))]))"
   ]
  },
  {
   "cell_type": "code",
   "execution_count": 96,
   "metadata": {
    "collapsed": true
   },
   "outputs": [],
   "source": [
    "image_out = Image.new(img1_1.mode,img1_1.size)\n",
    "\n",
    "image_out.putdata(test)\n",
    "image_out.save('test_out.png')\n",
    "\n",
    "\n",
    "image_out.putdata(test2)\n",
    "image_out.save('test2_out.png')"
   ]
  },
  {
   "cell_type": "code",
   "execution_count": null,
   "metadata": {
    "collapsed": true
   },
   "outputs": [],
   "source": []
  }
 ],
 "metadata": {
  "anaconda-cloud": {},
  "kernelspec": {
   "display_name": "Python [py27]",
   "language": "python",
   "name": "Python [py27]"
  },
  "language_info": {
   "codemirror_mode": {
    "name": "ipython",
    "version": 2
   },
   "file_extension": ".py",
   "mimetype": "text/x-python",
   "name": "python",
   "nbconvert_exporter": "python",
   "pygments_lexer": "ipython2",
   "version": "2.7.13"
  }
 },
 "nbformat": 4,
 "nbformat_minor": 0
}
